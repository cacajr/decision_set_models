{
 "cells": [
  {
   "attachments": {},
   "cell_type": "markdown",
   "metadata": {},
   "source": [
    "# Draft"
   ]
  },
  {
   "cell_type": "code",
   "execution_count": 7,
   "metadata": {},
   "outputs": [
    {
     "data": {
      "text/plain": [
       "array([2, 3, 4, 5, 7], dtype=int64)"
      ]
     },
     "execution_count": 7,
     "metadata": {},
     "output_type": "execute_result"
    }
   ],
   "source": [
    "import pandas as pd\n",
    "import numpy as np\n",
    "\n",
    "\n",
    "y = np.array([1, 1, 0, 0, 0, 0, 1, 0])\n",
    "\n",
    "np.where(y == 0)[0]"
   ]
  },
  {
   "attachments": {},
   "cell_type": "markdown",
   "metadata": {},
   "source": [
    "# Model Tests"
   ]
  },
  {
   "cell_type": "code",
   "execution_count": 1,
   "metadata": {},
   "outputs": [],
   "source": [
    "import sys, os\n",
    "if not sys.path[0] == os.path.abspath('..'):\n",
    "    sys.path.insert(0, os.path.abspath('..'))\n",
    "\n",
    "import pandas as pd\n",
    "import numpy as np\n",
    "from models.ikkrr import IKKRR\n",
    "from sklearn.model_selection import train_test_split\n",
    "\n",
    "\n",
    "Xy = pd.read_csv('../databases/little_example_2.csv')\n",
    "\n",
    "X = Xy.drop(['y'], axis=1)\n",
    "y = Xy['y']\n",
    "\n",
    "X_train, X_test, y_train, y_test = train_test_split(X, y, test_size = 0.2)"
   ]
  },
  {
   "cell_type": "code",
   "execution_count": 2,
   "metadata": {},
   "outputs": [],
   "source": [
    "model = IKKRR(\n",
    "    max_rule_set_size=2,\n",
    "    categorical_columns_index=[],\n",
    "    number_quantiles_ordinal_columns=4,\n",
    "    number_lines_per_partition=8,\n",
    "    rules_accuracy_weight=5,\n",
    "    balance_instances=False\n",
    ")\n",
    "\n",
    "model.fit(X, y)\n",
    "# model.fit(X_train, y_train)"
   ]
  }
 ],
 "metadata": {
  "kernelspec": {
   "display_name": "venv",
   "language": "python",
   "name": "python3"
  },
  "language_info": {
   "codemirror_mode": {
    "name": "ipython",
    "version": 3
   },
   "file_extension": ".py",
   "mimetype": "text/x-python",
   "name": "python",
   "nbconvert_exporter": "python",
   "pygments_lexer": "ipython3",
   "version": "3.10.4"
  },
  "orig_nbformat": 4
 },
 "nbformat": 4,
 "nbformat_minor": 2
}
