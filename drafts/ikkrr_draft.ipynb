{
 "cells": [
  {
   "attachments": {},
   "cell_type": "markdown",
   "metadata": {},
   "source": [
    "# Draft"
   ]
  },
  {
   "cell_type": "code",
   "execution_count": 7,
   "metadata": {},
   "outputs": [
    {
     "data": {
      "text/plain": [
       "array([2, 3, 4, 5, 7], dtype=int64)"
      ]
     },
     "execution_count": 7,
     "metadata": {},
     "output_type": "execute_result"
    }
   ],
   "source": [
    "import pandas as pd\n",
    "import numpy as np\n",
    "\n",
    "\n",
    "y = np.array([1, 1, 0, 0, 0, 0, 1, 0])\n",
    "\n",
    "np.where(y == 0)[0]"
   ]
  },
  {
   "attachments": {},
   "cell_type": "markdown",
   "metadata": {},
   "source": [
    "# Model Tests"
   ]
  },
  {
   "cell_type": "code",
   "execution_count": 1,
   "metadata": {},
   "outputs": [],
   "source": [
    "import sys, os\n",
    "if not sys.path[0] == os.path.abspath('..'):\n",
    "    sys.path.insert(0, os.path.abspath('..'))\n",
    "\n",
    "import pandas as pd\n",
    "import numpy as np\n",
    "from models.ikkrr import IKKRR\n",
    "from models.imli import IMLI\n",
    "from sklearn.model_selection import train_test_split\n",
    "\n",
    "\n",
    "Xy = pd.read_csv('../databases/iris.csv')\n",
    "\n",
    "X = Xy.drop(['Class'], axis=1)\n",
    "y = Xy['Class']\n",
    "\n",
    "X_train, X_test, y_train, y_test = train_test_split(X, y, test_size = 0.2)"
   ]
  },
  {
   "cell_type": "code",
   "execution_count": 2,
   "metadata": {},
   "outputs": [],
   "source": [
    "model1 = IKKRR(\n",
    "    max_rule_set_size=2,\n",
    "    categorical_columns_index=[],\n",
    "    number_quantiles_ordinal_columns=4,\n",
    "    number_lines_per_partition=8,\n",
    "    rules_accuracy_weight=10,\n",
    "    balance_instances=True\n",
    ")\n",
    "\n",
    "model2 = IMLI(\n",
    "    max_rule_set_size=2,\n",
    "    categorical_columns_index=[],\n",
    "    number_quantiles_ordinal_columns=4,\n",
    "    number_lines_per_partition=8,\n",
    "    rules_accuracy_weight=10,\n",
    "    balance_instances=True\n",
    ")\n",
    "\n",
    "# model1.fit(X, y)\n",
    "model1.fit(X_train, y_train)\n",
    "\n",
    "# model2.fit(X, y)\n",
    "model2.fit(X_train, y_train)"
   ]
  },
  {
   "cell_type": "code",
   "execution_count": 3,
   "metadata": {},
   "outputs": [
    {
     "name": "stdout",
     "output_type": "stream",
     "text": [
      "0.8666666666666667\n"
     ]
    },
    {
     "data": {
      "text/plain": [
       "'(sepal-length > 5.175 and sepal-width <= 3.3 and petal-length > 1.6 and petal-width <= 1.4) or (sepal-length <= 5.8 and sepal-length > 5.175 and petal-length <= 5.1 and petal-width <= 1.825 and petal-width > 0.4)'"
      ]
     },
     "execution_count": 3,
     "metadata": {},
     "output_type": "execute_result"
    }
   ],
   "source": [
    "print(model1.score(X_test, y_test))\n",
    "model1.get_rules()"
   ]
  },
  {
   "cell_type": "code",
   "execution_count": 4,
   "metadata": {},
   "outputs": [
    {
     "name": "stdout",
     "output_type": "stream",
     "text": [
      "0.8\n"
     ]
    },
    {
     "data": {
      "text/plain": [
       "'(sepal-length > 5.8 and petal-length <= 4.4 and petal-width <= 1.825) or (sepal-length <= 5.8 and sepal-length > 5.175 and sepal-width <= 3.3 and petal-length > 1.6 and petal-width <= 1.825)'"
      ]
     },
     "execution_count": 4,
     "metadata": {},
     "output_type": "execute_result"
    }
   ],
   "source": [
    "print(model2.score(X_test, y_test))\n",
    "model2.get_rules()"
   ]
  },
  {
   "cell_type": "code",
   "execution_count": 30,
   "metadata": {},
   "outputs": [
    {
     "name": "stdout",
     "output_type": "stream",
     "text": [
      "<PandasArray>\n",
      "['A 0', 'B 0', 'C 0']\n",
      "Length: 3, dtype: object\n",
      "<PandasArray>\n",
      "['A 1', 'B 1', 'C 1']\n",
      "Length: 3, dtype: object\n"
     ]
    },
    {
     "data": {
      "text/plain": [
       "[array([[0, 0, 0],\n",
       "        [1, 1, 0],\n",
       "        [0, 1, 0],\n",
       "        [0, 0, 1],\n",
       "        [1, 0, 0],\n",
       "        [1, 1, 1]], dtype=uint8)]"
      ]
     },
     "execution_count": 30,
     "metadata": {},
     "output_type": "execute_result"
    }
   ],
   "source": [
    "print(model1.get_dataset_binarized().get_normal_features_label())\n",
    "print(model1.get_dataset_binarized().get_opposite_features_label())\n",
    "model1.get_dataset_binarized().get_normal_instances()"
   ]
  },
  {
   "cell_type": "code",
   "execution_count": 5,
   "metadata": {},
   "outputs": [
    {
     "name": "stdout",
     "output_type": "stream",
     "text": [
      "<PandasArray>\n",
      "['A 0', 'B 0', 'C 0']\n",
      "Length: 3, dtype: object\n",
      "<PandasArray>\n",
      "['A 1', 'B 1', 'C 1']\n",
      "Length: 3, dtype: object\n"
     ]
    },
    {
     "data": {
      "text/plain": [
       "[array([[0, 0, 0],\n",
       "        [1, 1, 0],\n",
       "        [0, 1, 0],\n",
       "        [0, 0, 1],\n",
       "        [1, 0, 0],\n",
       "        [1, 1, 1]], dtype=uint8)]"
      ]
     },
     "execution_count": 5,
     "metadata": {},
     "output_type": "execute_result"
    }
   ],
   "source": [
    "print(model2.get_dataset_binarized().get_normal_features_label())\n",
    "print(model2.get_dataset_binarized().get_opposite_features_label())\n",
    "model2.get_dataset_binarized().get_normal_instances()"
   ]
  }
 ],
 "metadata": {
  "kernelspec": {
   "display_name": "venv",
   "language": "python",
   "name": "python3"
  },
  "language_info": {
   "codemirror_mode": {
    "name": "ipython",
    "version": 3
   },
   "file_extension": ".py",
   "mimetype": "text/x-python",
   "name": "python",
   "nbconvert_exporter": "python",
   "pygments_lexer": "ipython3",
   "version": "3.10.4"
  },
  "orig_nbformat": 4
 },
 "nbformat": 4,
 "nbformat_minor": 2
}
