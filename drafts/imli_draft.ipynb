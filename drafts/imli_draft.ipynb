{
 "cells": [
  {
   "attachments": {},
   "cell_type": "markdown",
   "metadata": {},
   "source": [
    "# Draft"
   ]
  },
  {
   "cell_type": "code",
   "execution_count": 30,
   "metadata": {},
   "outputs": [
    {
     "data": {
      "text/html": [
       "<div>\n",
       "<style scoped>\n",
       "    .dataframe tbody tr th:only-of-type {\n",
       "        vertical-align: middle;\n",
       "    }\n",
       "\n",
       "    .dataframe tbody tr th {\n",
       "        vertical-align: top;\n",
       "    }\n",
       "\n",
       "    .dataframe thead th {\n",
       "        text-align: right;\n",
       "    }\n",
       "</style>\n",
       "<table border=\"1\" class=\"dataframe\">\n",
       "  <thead>\n",
       "    <tr style=\"text-align: right;\">\n",
       "      <th></th>\n",
       "      <th>Configuration</th>\n",
       "      <th>Rule set size</th>\n",
       "      <th>Larger rule size</th>\n",
       "      <th>Accuracy</th>\n",
       "      <th>Training time</th>\n",
       "    </tr>\n",
       "  </thead>\n",
       "  <tbody>\n",
       "    <tr>\n",
       "      <th>0</th>\n",
       "      <td>1</td>\n",
       "      <td>2</td>\n",
       "      <td>3</td>\n",
       "      <td>4</td>\n",
       "      <td>5</td>\n",
       "    </tr>\n",
       "    <tr>\n",
       "      <th>0</th>\n",
       "      <td>2</td>\n",
       "      <td>7</td>\n",
       "      <td>8</td>\n",
       "      <td>9</td>\n",
       "      <td>10</td>\n",
       "    </tr>\n",
       "    <tr>\n",
       "      <th>0</th>\n",
       "      <td>3</td>\n",
       "      <td>2</td>\n",
       "      <td>3</td>\n",
       "      <td>4</td>\n",
       "      <td>5</td>\n",
       "    </tr>\n",
       "    <tr>\n",
       "      <th>0</th>\n",
       "      <td>4</td>\n",
       "      <td>7</td>\n",
       "      <td>8</td>\n",
       "      <td>9</td>\n",
       "      <td>10</td>\n",
       "    </tr>\n",
       "  </tbody>\n",
       "</table>\n",
       "</div>"
      ],
      "text/plain": [
       "  Configuration Rule set size Larger rule size Accuracy Training time\n",
       "0             1             2                3        4             5\n",
       "0             2             7                8        9            10\n",
       "0             3             2                3        4             5\n",
       "0             4             7                8        9            10"
      ]
     },
     "execution_count": 30,
     "metadata": {},
     "output_type": "execute_result"
    }
   ],
   "source": [
    "import pandas as pd\n",
    "\n",
    "\n",
    "columns=['Configuration', 'Rule set size', 'Larger rule size', 'Accuracy', 'Training time']\n",
    "results_df = pd.DataFrame(\n",
    "    [], \n",
    "    columns=columns\n",
    ")\n",
    "\n",
    "results_df = pd.concat([results_df, pd.DataFrame([[1, 2, 3, 4, 5]], columns=columns)])\n",
    "results_df = pd.concat([results_df, pd.DataFrame([[2, 7, 8, 9, 10]], columns=columns)])\n",
    "results_df = pd.concat([results_df, pd.DataFrame([[3, 2, 3, 4, 5]], columns=columns)])\n",
    "results_df = pd.concat([results_df, pd.DataFrame([[4, 7, 8, 9, 10]], columns=columns)])\n",
    "\n",
    "results_df"
   ]
  },
  {
   "attachments": {},
   "cell_type": "markdown",
   "metadata": {},
   "source": [
    "# Model Informations"
   ]
  },
  {
   "cell_type": "code",
   "execution_count": null,
   "metadata": {},
   "outputs": [],
   "source": [
    "''' \n",
    "m: número de features (normais e barradas)\n",
    "k: número de cláusulas conjuntivas\n",
    "n: número de instâncias\n",
    "\n",
    "j ∈ {1, ..., m}\n",
    "l ∈ {1, ..., k}\n",
    "i ∈ {1, ..., n}\n",
    "\n",
    "bl,j = true: regra l possui a coluna j\n",
    "bl,j = false: regra l não possui a coluna j\n",
    "\n",
    "ni = true: instância i não deve ser classificada corretamente\n",
    "ni = false: instância i deve ser classificada corretamente\n",
    "'''"
   ]
  },
  {
   "cell_type": "code",
   "execution_count": null,
   "metadata": {},
   "outputs": [],
   "source": [
    "''' \n",
    "Para fins de simplificação, imaginemos que as features abaixo\n",
    "sejam todas as features normais e barradas do dataset\n",
    "\n",
    "A, B, C | y\n",
    "1, 1, 1 | 1\n",
    "1, 0, 1 | 0\n",
    "1, 0, 0 | 0\n",
    "\n",
    "k = 2\n",
    "\n",
    "(7)\n",
    "(¬n1) ∧ (¬n2) ∧ (¬n3) ∧ \n",
    "\n",
    "(8)\n",
    "(¬b1,1) ∧ (¬b1,2) ∧ (¬b1,3) ∧\n",
    "(¬b2,1) ∧ (¬b2,2) ∧ (¬b2,3) ∧ \n",
    "\n",
    "(9)\n",
    "Equivalência para deixar na FNC ---------------------------------------\n",
    "quando yi = 1\n",
    "¬n1 -> (y1 <-> ((b1,1 V b1,2 V b1,3) ∧ (b2,1 V b2,2 V b2,3))) ≡ \n",
    "(n1 V ¬b1,1 V ¬b1,2 V ¬b1,3 V ¬b2,1 V ¬b2,2 V ¬b2,3)\n",
    "\n",
    "quando yi = 0\n",
    "¬n2 -> (y2 <-> ((b1,1 V b1,3) ∧ (b2,1 V b2,3))) ≡ \n",
    "(n2 V z1 V z2) ∧ (¬z1 V ¬b1,1) ∧ (¬z1 V ¬b1,3) ∧ \n",
    "(¬z2 V ¬b2,1) ∧ (¬z2 V ¬b2,3)\n",
    "\n",
    "¬n3 -> (y3 <-> ((b1,1) ∧ (b2,1))) ≡ \n",
    "(n3 V z3 V z4) ∧ (¬z3 V ¬b1,1) ∧ (¬z4 V ¬b2,1)\n",
    "-----------------------------------------------------------------------\n",
    "\n",
    "(n1 V ¬b1,1 V ¬b1,2 V ¬b1,3 V ¬b2,1 V ¬b2,2 V ¬b2,3) ∧ \n",
    "\n",
    "(n2 V z1 V z2) ∧ \n",
    "(¬z1 V ¬b1,1) ∧ \n",
    "(¬z1 V ¬b1,3) ∧ \n",
    "(¬z2 V ¬b2,1) ∧ \n",
    "(¬z2 V ¬b2,3) ∧ \n",
    "\n",
    "(n3 V z3 V z4) ∧ \n",
    "(¬z3 V ¬b1,1) ∧ \n",
    "(¬z4 V ¬b2,1)\n",
    "'''"
   ]
  },
  {
   "cell_type": "code",
   "execution_count": 14,
   "metadata": {},
   "outputs": [
    {
     "name": "stdout",
     "output_type": "stream",
     "text": [
      "01\n",
      "0\n",
      "0\n",
      "0\n",
      "1\n",
      "1\n",
      "1\n",
      "23\n",
      "2\n",
      "2\n",
      "2\n",
      "3\n",
      "3\n",
      "3\n"
     ]
    }
   ],
   "source": [
    "next_li0 = 0\n",
    "k = 2\n",
    "m = 3\n",
    "\n",
    "# FIRST LINE ------------------\n",
    "for l in range(k):\n",
    "    print(next_li0, end='')\n",
    "    next_li0 += 1\n",
    "print()\n",
    "for li0 in range(next_li0 - k, next_li0):\n",
    "    for j in range(m):\n",
    "        print(li0)\n",
    "# -----------------------------\n",
    "\n",
    "# SECOND LINE -----------------\n",
    "for l in range(k):\n",
    "    print(next_li0, end='')\n",
    "    next_li0 += 1\n",
    "print()\n",
    "for li0 in range(next_li0 - k, next_li0):\n",
    "    for j in range(m):\n",
    "        print(li0)\n",
    "# -----------------------------\n"
   ]
  },
  {
   "cell_type": "code",
   "execution_count": 6,
   "metadata": {},
   "outputs": [
    {
     "name": "stdout",
     "output_type": "stream",
     "text": [
      "3 0\n",
      "4 1\n",
      "5 2\n"
     ]
    }
   ],
   "source": [
    "for i, j in zip(range(3, 7), range(3)):\n",
    "    print(i, j)"
   ]
  },
  {
   "attachments": {},
   "cell_type": "markdown",
   "metadata": {},
   "source": [
    "# Model Tests"
   ]
  },
  {
   "cell_type": "code",
   "execution_count": 32,
   "metadata": {},
   "outputs": [],
   "source": [
    "import sys, os\n",
    "if not sys.path[0] == os.path.abspath('..'):\n",
    "    sys.path.insert(0, os.path.abspath('..'))\n",
    "\n",
    "import pandas as pd\n",
    "import numpy as np\n",
    "from models.imli import IMLI\n",
    "from models.i_imli import I_IMLI\n",
    "from sklearn.model_selection import train_test_split\n",
    "\n",
    "\n",
    "Xy = pd.read_csv('../databases/iris.csv')\n",
    "\n",
    "X = Xy.drop(['Class'], axis=1)\n",
    "y = Xy['Class']\n",
    "\n",
    "X_train, X_test, y_train, y_test = train_test_split(X, y, test_size = 0.2)"
   ]
  },
  {
   "cell_type": "code",
   "execution_count": 33,
   "metadata": {},
   "outputs": [],
   "source": [
    "model = IMLI(\n",
    "    max_rule_set_size=5,\n",
    "    categorical_columns_index=[],\n",
    "    number_quantiles_ordinal_columns=4,\n",
    "    number_lines_per_partition=8,\n",
    "    rules_accuracy_weight=5,\n",
    "    balance_instances=True,\n",
    "    balance_instances_seed=22\n",
    ")\n",
    "\n",
    "i_model = I_IMLI(\n",
    "    max_rule_set_size=5,\n",
    "    categorical_columns_index=[],\n",
    "    number_quantiles_ordinal_columns=4,\n",
    "    number_lines_per_partition=8,\n",
    "    rules_accuracy_weight=5,\n",
    "    balance_instances=True,\n",
    "    balance_instances_seed=22\n",
    ")\n",
    "\n",
    "# model.fit(X, y)\n",
    "model.fit(X_train, y_train)\n",
    "\n",
    "i_model.fit(X_train, y_train)"
   ]
  },
  {
   "cell_type": "code",
   "execution_count": 34,
   "metadata": {},
   "outputs": [
    {
     "name": "stdout",
     "output_type": "stream",
     "text": [
      "(sepal-length > 5.8 and sepal-width <= 3.3249999999999997 and petal-width <= 1.4) or (sepal-width <= 3.3249999999999997 and petal-length <= 5.225 and petal-length > 1.6 and petal-width <= 1.9) or (sepal-length > 6.5 and petal-width <= 1.4) or (sepal-length > 6.5 and petal-width <= 1.4)\n"
     ]
    },
    {
     "data": {
      "text/plain": [
       "'(sepal-width <= 3.3249999999999997 and petal-length <= 5.225 and petal-length > 1.6 and petal-width <= 1.9)'"
      ]
     },
     "execution_count": 34,
     "metadata": {},
     "output_type": "execute_result"
    }
   ],
   "source": [
    "print(model.get_rules())\n",
    "\n",
    "i_model.get_rules()"
   ]
  },
  {
   "cell_type": "code",
   "execution_count": 35,
   "metadata": {},
   "outputs": [
    {
     "name": "stdout",
     "output_type": "stream",
     "text": [
      "Train Score:\n",
      "IMLI: 0.9\n",
      "I-IMLI: 0.9083333333333333\n",
      "\n",
      "Test Score:\n",
      "IMLI: 0.9333333333333333\n",
      "I-IMLI: 0.9333333333333333\n"
     ]
    }
   ],
   "source": [
    "# model.score(X, y)\n",
    "print('Train Score:')\n",
    "print('IMLI:', model.score(X_train, y_train))\n",
    "print('I-IMLI:', i_model.score(X_train, y_train))\n",
    "print()\n",
    "print('Test Score:')\n",
    "print('IMLI:', model.score(X_test, y_test))\n",
    "print('I-IMLI:', i_model.score(X_test, y_test))"
   ]
  },
  {
   "cell_type": "code",
   "execution_count": 27,
   "metadata": {},
   "outputs": [
    {
     "name": "stdout",
     "output_type": "stream",
     "text": [
      "Train time:\n",
      "IMLI: 0.01199197769165039\n",
      "I-IMLI: 0.0059964656829833984\n"
     ]
    }
   ],
   "source": [
    "print('Train time:')\n",
    "print('IMLI:', model.get_total_time_solver_solutions())\n",
    "print('I-IMLI:', i_model.get_total_time_solver_solutions())"
   ]
  },
  {
   "cell_type": "code",
   "execution_count": 12,
   "metadata": {},
   "outputs": [
    {
     "name": "stdout",
     "output_type": "stream",
     "text": [
      "Rule set size: 3\n",
      "Larger rule size: 4\n"
     ]
    }
   ],
   "source": [
    "print('Rule set size:', model.get_rule_set_size())\n",
    "print('Larger rule size:', model.get_larger_rule_size())"
   ]
  }
 ],
 "metadata": {
  "kernelspec": {
   "display_name": "venv",
   "language": "python",
   "name": "python3"
  },
  "language_info": {
   "codemirror_mode": {
    "name": "ipython",
    "version": 3
   },
   "file_extension": ".py",
   "mimetype": "text/x-python",
   "name": "python",
   "nbconvert_exporter": "python",
   "pygments_lexer": "ipython3",
   "version": "3.10.4"
  },
  "orig_nbformat": 4
 },
 "nbformat": 4,
 "nbformat_minor": 2
}
