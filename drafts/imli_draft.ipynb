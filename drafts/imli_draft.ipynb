{
 "cells": [
  {
   "attachments": {},
   "cell_type": "markdown",
   "metadata": {},
   "source": [
    "# Draft"
   ]
  },
  {
   "cell_type": "code",
   "execution_count": 17,
   "metadata": {},
   "outputs": [
    {
     "data": {
      "text/plain": [
       "[2]"
      ]
     },
     "execution_count": 17,
     "metadata": {},
     "output_type": "execute_result"
    }
   ],
   "source": [
    "list = [1, 2, 3]\n",
    "list[1: 2]"
   ]
  },
  {
   "cell_type": "code",
   "execution_count": 20,
   "metadata": {},
   "outputs": [
    {
     "data": {
      "text/plain": [
       "False"
      ]
     },
     "execution_count": 20,
     "metadata": {},
     "output_type": "execute_result"
    }
   ],
   "source": [
    "list = [1, -2]\n",
    "2 in list"
   ]
  },
  {
   "attachments": {},
   "cell_type": "markdown",
   "metadata": {},
   "source": [
    "# Model Informations"
   ]
  },
  {
   "cell_type": "code",
   "execution_count": null,
   "metadata": {},
   "outputs": [],
   "source": [
    "''' \n",
    "m: número de features (normais e barradas)\n",
    "k: número de cláusulas conjuntivas\n",
    "n: número de instâncias\n",
    "\n",
    "j ∈ {1, ..., m}\n",
    "l ∈ {1, ..., k}\n",
    "i ∈ {1, ..., n}\n",
    "\n",
    "bl,j = true: regra l possui a coluna j\n",
    "bl,j = false: regra l não possui a coluna j\n",
    "\n",
    "ni = true: instância i não deve ser classificada corretamente\n",
    "ni = false: instância i deve ser classificada corretamente\n",
    "'''"
   ]
  },
  {
   "cell_type": "code",
   "execution_count": null,
   "metadata": {},
   "outputs": [],
   "source": [
    "''' \n",
    "Para fins de simplificação, imaginemos que as features abaixo\n",
    "sejam todas as features normais e barradas do dataset\n",
    "\n",
    "A, B, C | y\n",
    "1, 1, 1 | 1\n",
    "1, 0, 1 | 0\n",
    "1, 0, 0 | 0\n",
    "\n",
    "k = 2\n",
    "\n",
    "(7)\n",
    "(¬n1) ∧ (¬n2) ∧ (¬n3) ∧ \n",
    "\n",
    "(8)\n",
    "(¬b1,1) ∧ (¬b1,2) ∧ (¬b1,3) ∧\n",
    "(¬b2,1) ∧ (¬b2,2) ∧ (¬b2,3) ∧ \n",
    "\n",
    "(9)\n",
    "Equivalência para deixar na FNC ---------------------------------------\n",
    "quando yi = 1\n",
    "¬n1 -> (y1 <-> ((b1,1 V b1,2 V b1,3) ∧ (b2,1 V b2,2 V b2,3))) ≡ \n",
    "(n1 V ¬b1,1 V ¬b1,2 V ¬b1,3 V ¬b2,1 V ¬b2,2 V ¬b2,3)\n",
    "\n",
    "quando yi = 0\n",
    "¬n2 -> (y2 <-> ((b1,1 V b1,3) ∧ (b2,1 V b2,3))) ≡ \n",
    "(n2 V z1 V z2) ∧ (¬z1 V ¬b1,1) ∧ (¬z1 V ¬b1,3) ∧ \n",
    "(¬z2 V ¬b2,1) ∧ (¬z2 V ¬b2,3)\n",
    "\n",
    "¬n3 -> (y3 <-> ((b1,1) ∧ (b2,1))) ≡ \n",
    "(n3 V z3 V z4) ∧ (¬z3 V ¬b1,1) ∧ (¬z4 V ¬b2,1)\n",
    "-----------------------------------------------------------------------\n",
    "\n",
    "(n1 V ¬b1,1 V ¬b1,2 V ¬b1,3 V ¬b2,1 V ¬b2,2 V ¬b2,3) ∧ \n",
    "\n",
    "(n2 V z1 V z2) ∧ \n",
    "(¬z1 V ¬b1,1) ∧ \n",
    "(¬z1 V ¬b1,3) ∧ \n",
    "(¬z2 V ¬b2,1) ∧ \n",
    "(¬z2 V ¬b2,3) ∧ \n",
    "\n",
    "(n3 V z3 V z4) ∧ \n",
    "(¬z3 V ¬b1,1) ∧ \n",
    "(¬z4 V ¬b2,1)\n",
    "'''"
   ]
  },
  {
   "cell_type": "code",
   "execution_count": 14,
   "metadata": {},
   "outputs": [
    {
     "name": "stdout",
     "output_type": "stream",
     "text": [
      "01\n",
      "0\n",
      "0\n",
      "0\n",
      "1\n",
      "1\n",
      "1\n",
      "23\n",
      "2\n",
      "2\n",
      "2\n",
      "3\n",
      "3\n",
      "3\n"
     ]
    }
   ],
   "source": [
    "next_li0 = 0\n",
    "k = 2\n",
    "m = 3\n",
    "\n",
    "# FIRST LINE ------------------\n",
    "for l in range(k):\n",
    "    print(next_li0, end='')\n",
    "    next_li0 += 1\n",
    "print()\n",
    "for li0 in range(next_li0 - k, next_li0):\n",
    "    for j in range(m):\n",
    "        print(li0)\n",
    "# -----------------------------\n",
    "\n",
    "# SECOND LINE -----------------\n",
    "for l in range(k):\n",
    "    print(next_li0, end='')\n",
    "    next_li0 += 1\n",
    "print()\n",
    "for li0 in range(next_li0 - k, next_li0):\n",
    "    for j in range(m):\n",
    "        print(li0)\n",
    "# -----------------------------\n"
   ]
  },
  {
   "cell_type": "code",
   "execution_count": 6,
   "metadata": {},
   "outputs": [
    {
     "name": "stdout",
     "output_type": "stream",
     "text": [
      "3 0\n",
      "4 1\n",
      "5 2\n"
     ]
    }
   ],
   "source": [
    "for i, j in zip(range(3, 7), range(3)):\n",
    "    print(i, j)"
   ]
  },
  {
   "attachments": {},
   "cell_type": "markdown",
   "metadata": {},
   "source": [
    "# Model Tests"
   ]
  },
  {
   "cell_type": "code",
   "execution_count": 82,
   "metadata": {},
   "outputs": [],
   "source": [
    "import sys, os\n",
    "if not sys.path[0] == os.path.abspath('..'):\n",
    "    sys.path.insert(0, os.path.abspath('..'))\n",
    "\n",
    "import pandas as pd\n",
    "import numpy as np\n",
    "from models.imli import IMLI\n",
    "from sklearn.model_selection import train_test_split\n",
    "\n",
    "\n",
    "Xy = pd.read_csv('../databases/iris.csv')\n",
    "\n",
    "X = Xy.drop(['Class'], axis=1)\n",
    "y = Xy['Class']\n",
    "\n",
    "X_train, X_test, y_train, y_test = train_test_split(X, y, test_size = 0.2)"
   ]
  },
  {
   "cell_type": "code",
   "execution_count": 86,
   "metadata": {},
   "outputs": [],
   "source": [
    "model = IMLI(\n",
    "    max_rule_set_size=2,\n",
    "    categorical_columns_index=[],\n",
    "    number_quantiles_ordinal_columns=4,\n",
    "    number_lines_per_partition=8,\n",
    "    rules_accuracy_weight=5,\n",
    "    balance_instances=True\n",
    ")\n",
    "\n",
    "model.fit(X, y)\n",
    "# model.fit(X_train, y_train)"
   ]
  },
  {
   "cell_type": "code",
   "execution_count": 87,
   "metadata": {},
   "outputs": [
    {
     "data": {
      "text/plain": [
       "'(sepal-length <= 5.1 and sepal-length > 6.4 and sepal-width <= 3.3 and petal-width <= 1.3) or (sepal-length <= 6.4 and sepal-length > 5.1 and sepal-width <= 3.3 and petal-length <= 5.1 and petal-length > 1.6)'"
      ]
     },
     "execution_count": 87,
     "metadata": {},
     "output_type": "execute_result"
    }
   ],
   "source": [
    "model.get_rules()"
   ]
  },
  {
   "cell_type": "code",
   "execution_count": 88,
   "metadata": {},
   "outputs": [
    {
     "data": {
      "text/plain": [
       "0.82"
      ]
     },
     "execution_count": 88,
     "metadata": {},
     "output_type": "execute_result"
    }
   ],
   "source": [
    "model.score(X, y)\n",
    "# model.score(X_test, y_test)"
   ]
  },
  {
   "cell_type": "code",
   "execution_count": 89,
   "metadata": {},
   "outputs": [
    {
     "data": {
      "text/plain": [
       "0.0"
      ]
     },
     "execution_count": 89,
     "metadata": {},
     "output_type": "execute_result"
    }
   ],
   "source": [
    "model.get_total_time_solver_solutions()"
   ]
  },
  {
   "cell_type": "code",
   "execution_count": 90,
   "metadata": {},
   "outputs": [
    {
     "ename": "AttributeError",
     "evalue": "'IMLI' object has no attribute 'get_rule_set_size'",
     "output_type": "error",
     "traceback": [
      "\u001b[1;31m---------------------------------------------------------------------------\u001b[0m",
      "\u001b[1;31mAttributeError\u001b[0m                            Traceback (most recent call last)",
      "Cell \u001b[1;32mIn[90], line 1\u001b[0m\n\u001b[1;32m----> 1\u001b[0m \u001b[39mprint\u001b[39m(\u001b[39m'\u001b[39m\u001b[39mRule set size:\u001b[39m\u001b[39m'\u001b[39m, model\u001b[39m.\u001b[39;49mget_rule_set_size())\n\u001b[0;32m      2\u001b[0m \u001b[39mprint\u001b[39m(\u001b[39m'\u001b[39m\u001b[39mLarger rule size:\u001b[39m\u001b[39m'\u001b[39m, model\u001b[39m.\u001b[39mget_larger_rule_size())\n",
      "\u001b[1;31mAttributeError\u001b[0m: 'IMLI' object has no attribute 'get_rule_set_size'"
     ]
    }
   ],
   "source": [
    "print('Rule set size:', model.get_max_rule_set_size())\n",
    "print('Larger rule size:', model.get_larger_rule_size())"
   ]
  },
  {
   "cell_type": "code",
   "execution_count": 10,
   "metadata": {},
   "outputs": [
    {
     "data": {
      "text/plain": [
       "array([[1, 1, 1, 0, 0, 0, 1, 1, 1, 1, 1, 1],\n",
       "       [1, 1, 1, 0, 1, 1, 1, 1, 1, 1, 1, 1],\n",
       "       [1, 1, 1, 0, 0, 1, 1, 1, 1, 1, 1, 1],\n",
       "       [1, 1, 1, 0, 0, 1, 1, 1, 1, 1, 1, 1],\n",
       "       [1, 1, 1, 0, 0, 0, 1, 1, 1, 1, 1, 1],\n",
       "       [0, 1, 1, 0, 0, 0, 0, 1, 1, 0, 1, 1],\n",
       "       [1, 1, 1, 0, 0, 0, 1, 1, 1, 1, 1, 1],\n",
       "       [1, 1, 1, 0, 0, 0, 1, 1, 1, 1, 1, 1]], dtype=int64)"
      ]
     },
     "execution_count": 10,
     "metadata": {},
     "output_type": "execute_result"
    }
   ],
   "source": [
    "model.get_dataset_binarized().get_normal_instances(1)"
   ]
  }
 ],
 "metadata": {
  "kernelspec": {
   "display_name": "venv",
   "language": "python",
   "name": "python3"
  },
  "language_info": {
   "codemirror_mode": {
    "name": "ipython",
    "version": 3
   },
   "file_extension": ".py",
   "mimetype": "text/x-python",
   "name": "python",
   "nbconvert_exporter": "python",
   "pygments_lexer": "ipython3",
   "version": "3.10.4"
  },
  "orig_nbformat": 4
 },
 "nbformat": 4,
 "nbformat_minor": 2
}
