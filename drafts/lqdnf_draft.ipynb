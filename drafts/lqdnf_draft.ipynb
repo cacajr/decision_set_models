{
 "cells": [
  {
   "attachments": {},
   "cell_type": "markdown",
   "metadata": {},
   "source": [
    "# Draft"
   ]
  },
  {
   "cell_type": "code",
   "execution_count": 170,
   "metadata": {},
   "outputs": [
    {
     "name": "stdout",
     "output_type": "stream",
     "text": [
      "5\n",
      "5\n"
     ]
    }
   ],
   "source": [
    "import pandas as pd\n",
    "import numpy as np\n",
    "\n",
    "\n",
    "array = np.arange(10)\n",
    "array_splited = np.array_split(array, np.ceil(len(array)/8))\n",
    "for split in array_splited:\n",
    "    print(len(split))\n"
   ]
  },
  {
   "cell_type": "code",
   "execution_count": 13,
   "metadata": {},
   "outputs": [
    {
     "data": {
      "text/plain": [
       "2.0"
      ]
     },
     "execution_count": 13,
     "metadata": {},
     "output_type": "execute_result"
    }
   ],
   "source": [
    "np.ceil(10/8)"
   ]
  },
  {
   "attachments": {},
   "cell_type": "markdown",
   "metadata": {},
   "source": [
    "# Model Informations"
   ]
  },
  {
   "cell_type": "code",
   "execution_count": null,
   "metadata": {},
   "outputs": [],
   "source": [
    "'''\n",
    "Φ: conjunto de features\n",
    "P: amostras de classe 1\n",
    "N: amostras de classe 0\n",
    "φ: fórmula normal disjuntiva\n",
    "m: número de cláusulas conjuntivas\n",
    "l: número máximo de literais por cláusula\n",
    "t: cada feature\n",
    "\n",
    "w ∈ P U N\n",
    "i ∈ {1, ..., m}\n",
    "j ∈ {1, ..., l}\n",
    "t ∈ Φ U {*}\n",
    "\n",
    "xi,j,t = true: atômica t ocorre no j° literal da iª cláusula\n",
    "pi,j = true: atômica t ocorre positivamente\n",
    "pi,j = false: atômica t ocorre negativamente\n",
    "\n",
    "xi,j,* = true: é pulado o j° literal da iª cláusula\n",
    "'''"
   ]
  },
  {
   "cell_type": "code",
   "execution_count": null,
   "metadata": {},
   "outputs": [],
   "source": [
    "'''\n",
    "A, B, C | y\n",
    "0, 1, 0 | 0\n",
    "1, 0, 1 | 1\n",
    "0, 1, 1 | 0\n",
    "\n",
    "m = 2\n",
    "l = 2\n",
    "\n",
    "(7.5)\n",
    "(x1,1,A V x1,1,B V x1,1,C V x1,1,*) ∧ \n",
    "\n",
    "(x1,2,A V x1,2,B V x1,2,C V x1,2,*) ∧ \n",
    "\n",
    "(x2,1,A V x2,1,B V x2,1,C V x2,1,*) ∧ \n",
    "\n",
    "(x2,2,A V x2,2,B V x2,2,C V x2,2,*)\n",
    "\n",
    "(7.6)\n",
    "(¬x1,1,A V ¬x1,1,B) ∧ (¬x1,1,A V ¬x1,1,C) ∧ (¬x1,1,A V ¬x1,1,*) ∧ \n",
    "(¬x1,1,B V ¬x1,1,C) ∧ (¬x1,1,B V ¬x1,1,*) ∧ (¬x1,1,C V ¬x1,1,*) ∧ \n",
    "\n",
    "(¬x1,2,A V ¬x1,2,B) ∧ (¬x1,2,A V ¬x1,2,C) ∧ (¬x1,2,A V ¬x1,2,*) ∧ \n",
    "(¬x1,2,B V ¬x1,2,C) ∧ (¬x1,2,B V ¬x1,2,*) ∧ (¬x1,2,C V ¬x1,2,*) ∧ \n",
    "\n",
    "(¬x2,1,A V ¬x2,1,B) ∧ (¬x2,1,A V ¬x2,1,C) ∧ (¬x2,1,A V ¬x2,1,*) ∧ \n",
    "(¬x2,1,B V ¬x2,1,C) ∧ (¬x2,1,B V ¬x2,1,*) ∧ (¬x2,1,C V ¬x2,1,*) ∧ \n",
    "\n",
    "(¬x2,2,A V ¬x2,2,B) ∧ (¬x2,2,A V ¬x2,2,C) ∧ (¬x2,2,A V ¬x2,2,*) ∧ \n",
    "(¬x2,2,B V ¬x2,2,C) ∧ (¬x2,2,B V ¬x2,2,*) ∧ (¬x2,2,C V ¬x2,2,*)\n",
    "\n",
    "(7.7)\n",
    "(¬x1,1,* V ¬x1,2,*) ∧ \n",
    "\n",
    "(¬x2,1,* V ¬x2,2,*)\n",
    "\n",
    "(7.8)\n",
    "Equivalência para deixar na FNC ---------------------------------------\n",
    "xi,j,t -> (pi,j <-> di,j,w,t) ≡ \n",
    "(¬xi,j,t V ¬pi,j V di,j,w,t) ∧ (¬xi,j,t V pi,j V ¬di,j,w,t)\n",
    "-----------------------------------------------------------------------\n",
    "Substituição de variável condicionada aos valores do dataset ----------\n",
    "di,j,w,t = 1, então usa yi,j,w\n",
    "di,j,w,t = 0, então usa ¬yi,j,w\n",
    "-----------------------------------------------------------------------\n",
    "(¬x1,1,A V ¬p1,1 V ¬y1,1,1) ∧ (¬x1,1,A V p1,1 V y1,1,1) ∧ \n",
    "(¬x1,1,A V ¬p1,1 V y1,1,2) ∧ (¬x1,1,A V p1,1 V ¬y1,1,2) ∧ \n",
    "(¬x1,1,A V ¬p1,1 V ¬y1,1,3) ∧ (¬x1,1,A V p1,1 V y1,1,3) ∧ \n",
    "\n",
    "(¬x1,1,B V ¬p1,1 V y1,1,1) ∧ (¬x1,1,B V p1,1 V ¬y1,1,1) ∧ \n",
    "(¬x1,1,B V ¬p1,1 V ¬y1,1,2) ∧ (¬x1,1,B V p1,1 V y1,1,2) ∧ \n",
    "(¬x1,1,B V ¬p1,1 V y1,1,3) ∧ (¬x1,1,B V p1,1 V ¬y1,1,3) ∧ \n",
    "\n",
    "(¬x1,1,C V ¬p1,1 V ¬y1,1,1) ∧ (¬x1,1,C V p1,1 V y1,1,1) ∧ \n",
    "(¬x1,1,C V ¬p1,1 V y1,1,2) ∧ (¬x1,1,C V p1,1 V ¬y1,1,2) ∧ \n",
    "(¬x1,1,C V ¬p1,1 V y1,1,3) ∧ (¬x1,1,C V p1,1 V ¬y1,1,3) ∧ \n",
    "\n",
    "(¬x1,2,A V ¬p1,2 V ¬y1,2,1) ∧ (¬x1,2,A V p1,2 V y1,2,1) ∧ \n",
    "(¬x1,2,A V ¬p1,2 V y1,2,2) ∧ (¬x1,2,A V p1,2 V ¬y1,2,2) ∧ \n",
    "(¬x1,2,A V ¬p1,2 V ¬y1,2,3) ∧ (¬x1,2,A V p1,2 V y1,2,3) ∧ \n",
    "\n",
    "(¬x1,2,B V ¬p1,2 V y1,2,1) ∧ (¬x1,2,B V p1,2 V ¬y1,2,1) ∧ \n",
    "(¬x1,2,B V ¬p1,2 V ¬y1,2,2) ∧ (¬x1,2,B V p1,2 V y1,2,2) ∧ \n",
    "(¬x1,2,B V ¬p1,2 V y1,2,3) ∧ (¬x1,2,B V p1,2 V ¬y1,2,3) ∧ \n",
    "\n",
    "(¬x1,2,C V ¬p1,2 V ¬y1,2,1) ∧ (¬x1,2,C V p1,2 V y1,2,1) ∧ \n",
    "(¬x1,2,C V ¬p1,2 V y1,2,2) ∧ (¬x1,2,C V p1,2 V ¬y1,2,2) ∧ \n",
    "(¬x1,2,C V ¬p1,2 V y1,2,3) ∧ (¬x1,2,C V p1,2 V ¬y1,2,3) ∧ \n",
    "\n",
    "(¬x2,1,A V ¬p2,1 V ¬y2,1,1) ∧ (¬x2,1,A V p2,1 V y2,1,1) ∧ \n",
    "(¬x2,1,A V ¬p2,1 V y2,1,2) ∧ (¬x2,1,A V p2,1 V ¬y2,1,2) ∧ \n",
    "(¬x2,1,A V ¬p2,1 V ¬y2,1,3) ∧ (¬x2,1,A V p2,1 V y2,1,3) ∧ \n",
    "\n",
    "(¬x2,1,B V ¬p2,1 V y2,1,1) ∧ (¬x2,1,B V p2,1 V ¬y2,1,1) ∧ \n",
    "(¬x2,1,B V ¬p2,1 V ¬y2,1,2) ∧ (¬x2,1,B V p2,1 V y2,1,2) ∧ \n",
    "(¬x2,1,B V ¬p2,1 V y2,1,3) ∧ (¬x2,1,B V p2,1 V ¬y2,1,3) ∧ \n",
    "\n",
    "(¬x2,1,C V ¬p2,1 V ¬y2,1,1) ∧ (¬x2,1,C V p2,1 V y2,1,1) ∧ \n",
    "(¬x2,1,C V ¬p2,1 V y2,1,2) ∧ (¬x2,1,C V p2,1 V ¬y2,1,2) ∧ \n",
    "(¬x2,1,C V ¬p2,1 V y2,1,3) ∧ (¬x2,1,C V p2,1 V ¬y2,1,3) ∧ \n",
    "\n",
    "(¬x2,2,A V ¬p2,2 V ¬y2,2,1) ∧ (¬x2,2,A V p2,2 V y2,2,1) ∧ \n",
    "(¬x2,2,A V ¬p2,2 V y2,2,2) ∧ (¬x2,2,A V p2,2 V ¬y2,2,2) ∧ \n",
    "(¬x2,2,A V ¬p2,2 V ¬y2,2,3) ∧ (¬x2,2,A V p2,2 V y2,2,3) ∧ \n",
    "\n",
    "(¬x2,2,B V ¬p2,2 V y2,2,1) ∧ (¬x2,2,B V p2,2 V ¬y2,2,1) ∧ \n",
    "(¬x2,2,B V ¬p2,2 V ¬y2,2,2) ∧ (¬x2,2,B V p2,2 V y2,2,2) ∧ \n",
    "(¬x2,2,B V ¬p2,2 V y2,2,3) ∧ (¬x2,2,B V p2,2 V ¬y2,2,3) ∧ \n",
    "\n",
    "(¬x2,2,C V ¬p2,2 V ¬y2,2,1) ∧ (¬x2,2,C V p2,2 V y2,2,1) ∧ \n",
    "(¬x2,2,C V ¬p2,2 V y2,2,2) ∧ (¬x2,2,C V p2,2 V ¬y2,2,2) ∧ \n",
    "(¬x2,2,C V ¬p2,2 V y2,2,3) ∧ (¬x2,2,C V p2,2 V ¬y2,2,3)\n",
    "\n",
    "(7.9)\n",
    "Equivalência para deixar na FNC ---------------------------------------\n",
    "xi,j,* -> yi,j,w ≡ ¬xi,j,* V yi,j,w\n",
    "-----------------------------------------------------------------------\n",
    "(¬x1,1,* V y1,1,1) ∧ (¬x1,1,* V y1,1,2) ∧ (¬x1,1,* V y1,1,3) ∧ \n",
    "\n",
    "(¬x1,2,* V y1,2,1) ∧ (¬x1,2,* V y1,2,2) ∧ (¬x1,2,* V y1,2,3) ∧ \n",
    "\n",
    "(¬x2,1,* V y2,1,1) ∧ (¬x2,1,* V y2,1,2) ∧ (¬x2,1,* V y2,1,3) ∧ \n",
    "\n",
    "(¬x2,2,* V y2,2,1) ∧ (¬x2,2,* V y2,2,2) ∧ (¬x2,2,* V y2,2,3)\n",
    "\n",
    "(7.10)\n",
    "(¬z1,1 V y1,1,1) ∧ (¬z1,1 V y1,2,1) ∧ (z1,1 V ¬y1,1,1 V ¬y1,2,1) ∧ \n",
    "(¬z1,2 V y1,1,2) ∧ (¬z1,2 V y1,2,2) ∧ (z1,2 V ¬y1,1,2 V ¬y1,2,2) ∧ \n",
    "(¬z1,3 V y1,1,3) ∧ (¬z1,3 V y1,2,3) ∧ (z1,3 V ¬y1,1,3 V ¬y1,2,3) ∧ \n",
    "\n",
    "(¬z2,1 V y2,1,1) ∧ (¬z2,1 V y2,2,1) ∧ (z2,1 V ¬y2,1,1 V ¬y2,2,1) ∧ \n",
    "(¬z2,2 V y2,1,2) ∧ (¬z2,2 V y2,2,2) ∧ (z2,2 V ¬y2,1,2 V ¬y2,2,2) ∧ \n",
    "(¬z2,3 V y2,1,3) ∧ (¬z2,3 V y2,2,3) ∧ (z2,3 V ¬y2,1,3 V ¬y2,2,3)\n",
    "\n",
    "(7.11)\n",
    "(z1,2 V z2,2)\n",
    "\n",
    "(7.12)\n",
    "(¬z1,1) ∧ (¬z2,1) ∧\n",
    "\n",
    "(¬z1,3) ∧ (¬z2,3)\n",
    "'''"
   ]
  },
  {
   "cell_type": "code",
   "execution_count": null,
   "metadata": {},
   "outputs": [],
   "source": [
    "'''\n",
    "(7.5-7.6) <hard>\n",
    "Força que exista apenas um xi,j,t verdadeiro para o literal j \n",
    "na cláusula i\n",
    "\n",
    "(7.5.1) <<1>>\n",
    "Força que exista o mínimo de literais possível em uma cláusula\n",
    "\n",
    "(7.7) <<hard>>\n",
    "Força que cada cláusula possua pelo menos um literal\n",
    "\n",
    "(7.8) <<hard>>\n",
    "...\n",
    "\n",
    "(7.9) <<hard>>\n",
    "Força que os resultados das cláusulas conjuntivas não sejam\n",
    "interferidos por literais ignorados\n",
    "\n",
    "(7.10) <<weight>>\n",
    "Força que os resultados das cláusulas conjuntivas batam com\n",
    "as classes/predições\n",
    "\n",
    "(7.11-7.12) <<weight>>\n",
    "Força que o resultado da cláusula i seja consistente com a\n",
    "classe/predição da instância w \n",
    "'''"
   ]
  },
  {
   "attachments": {},
   "cell_type": "markdown",
   "metadata": {},
   "source": [
    "# Model Tests"
   ]
  },
  {
   "cell_type": "code",
   "execution_count": 33,
   "metadata": {},
   "outputs": [],
   "source": [
    "import sys, os\n",
    "if not sys.path[0] == os.path.abspath('..'):\n",
    "    sys.path.insert(0, os.path.abspath('..'))\n",
    "\n",
    "import pandas as pd\n",
    "import numpy as np\n",
    "from models.lqdnfmaxsat import LQDNFMaxSAT\n",
    "from sklearn.model_selection import train_test_split\n",
    "\n",
    "\n",
    "Xy = pd.read_csv('../databases/monography_example.csv')\n",
    "\n",
    "X = Xy.drop(['Divida'], axis=1)\n",
    "y = Xy['Divida']\n",
    "\n",
    "X_train, X_test, y_train, y_test = train_test_split(X, y, test_size = 0.2)"
   ]
  },
  {
   "cell_type": "code",
   "execution_count": 46,
   "metadata": {},
   "outputs": [],
   "source": [
    "model = LQDNFMaxSAT(\n",
    "    max_rule_set_size=2,\n",
    "    max_size_each_rule=3,\n",
    "    categorical_columns_index=[2],\n",
    "    number_quantiles_ordinal_columns=4,\n",
    "    number_lines_per_partition=3,\n",
    "    rules_accuracy_weight=10,\n",
    "    balance_instances=True\n",
    ")\n",
    "\n",
    "model.fit(X, y)\n",
    "# model.fit(X_train, y_train)"
   ]
  },
  {
   "cell_type": "code",
   "execution_count": 47,
   "metadata": {},
   "outputs": [
    {
     "data": {
      "text/plain": [
       "'(Not Escolaridade Medio and Salario <= 5879.5)'"
      ]
     },
     "execution_count": 47,
     "metadata": {},
     "output_type": "execute_result"
    }
   ],
   "source": [
    "model.get_rules()"
   ]
  },
  {
   "cell_type": "code",
   "execution_count": 48,
   "metadata": {},
   "outputs": [
    {
     "data": {
      "text/plain": [
       "0.6666666666666666"
      ]
     },
     "execution_count": 48,
     "metadata": {},
     "output_type": "execute_result"
    }
   ],
   "source": [
    "model.score(X, y)\n",
    "# model.score(X_test, y_test)"
   ]
  },
  {
   "cell_type": "code",
   "execution_count": 31,
   "metadata": {},
   "outputs": [
    {
     "data": {
      "text/plain": [
       "0.0"
      ]
     },
     "execution_count": 31,
     "metadata": {},
     "output_type": "execute_result"
    }
   ],
   "source": [
    "model.get_total_time_solver_solutions()"
   ]
  },
  {
   "cell_type": "code",
   "execution_count": 32,
   "metadata": {},
   "outputs": [
    {
     "name": "stdout",
     "output_type": "stream",
     "text": [
      "Rule set size: 2\n",
      "Larger rule size: 3\n"
     ]
    }
   ],
   "source": [
    "print('Rule set size:', model.get_rule_set_size())\n",
    "print('Larger rule size:', model.get_larger_rule_size())"
   ]
  },
  {
   "cell_type": "code",
   "execution_count": 8,
   "metadata": {},
   "outputs": [
    {
     "data": {
      "text/plain": [
       "array([1, 1, 0, 1, 0, 0], dtype=int64)"
      ]
     },
     "execution_count": 8,
     "metadata": {},
     "output_type": "execute_result"
    }
   ],
   "source": [
    "model.get_dataset_binarized().get_classes(1)"
   ]
  },
  {
   "cell_type": "code",
   "execution_count": 6,
   "metadata": {},
   "outputs": [
    {
     "data": {
      "text/plain": [
       "<PandasArray>\n",
       "[        'Sexo Feminino',     'Escolaridade Fund',    'Escolaridade Medio',\n",
       " 'Escolaridade Superior',    'Salario <= 3603.75',     'Salario <= 5879.5',\n",
       "    'Salario <= 7216.25']\n",
       "Length: 7, dtype: object"
      ]
     },
     "execution_count": 6,
     "metadata": {},
     "output_type": "execute_result"
    }
   ],
   "source": [
    "model.get_dataset_binarized().get_normal_features_label()"
   ]
  },
  {
   "cell_type": "code",
   "execution_count": 8,
   "metadata": {},
   "outputs": [
    {
     "data": {
      "text/plain": [
       "array([[1, 0, 0, 1, 1, 1, 1],\n",
       "       [0, 0, 1, 0, 0, 1, 1],\n",
       "       [1, 1, 0, 0, 0, 0, 0],\n",
       "       [1, 0, 0, 1, 0, 0, 0],\n",
       "       [0, 0, 0, 1, 0, 0, 1],\n",
       "       [0, 0, 1, 0, 1, 1, 1]], dtype=int64)"
      ]
     },
     "execution_count": 8,
     "metadata": {},
     "output_type": "execute_result"
    }
   ],
   "source": [
    "model.get_dataset_binarized().get_normal_instances(1)"
   ]
  },
  {
   "attachments": {},
   "cell_type": "markdown",
   "metadata": {},
   "source": [
    "# WCNF, IDPool and RC2 libs tests"
   ]
  },
  {
   "cell_type": "code",
   "execution_count": 1,
   "metadata": {},
   "outputs": [],
   "source": [
    "from pysat.formula import WCNF      # https://pysathq.github.io/docs/html/api/formula.html#pysat.formula.WCNF\n",
    "from pysat.formula import IDPool    # https://pysathq.github.io/docs/html/api/formula.html#pysat.formula.IDPool\n",
    "from pysat.examples.rc2 import RC2"
   ]
  },
  {
   "cell_type": "code",
   "execution_count": 2,
   "metadata": {},
   "outputs": [
    {
     "name": "stdout",
     "output_type": "stream",
     "text": [
      "Soft clauses: [[2], [-1, 3]]\n",
      "Hard clauses [[1, -2], [-3]]\n"
     ]
    }
   ],
   "source": [
    "formula = WCNF()\n",
    "\n",
    "formula.append([1, -2])                             # (A V ¬B)∞ ∧\n",
    "formula.extend([[2], [-1, 3]], weights=[10, 8])     # (B)10 ∧ (¬A V C)8 ∧\n",
    "formula.append([-3])                                # (¬C)∞\n",
    "print('Soft clauses:', formula.soft)\n",
    "print('Hard clauses', formula.hard)\n",
    "formula.to_file('wcnf_draft.wcnf')"
   ]
  },
  {
   "cell_type": "code",
   "execution_count": 3,
   "metadata": {},
   "outputs": [
    {
     "data": {
      "text/plain": [
       "-1"
      ]
     },
     "execution_count": 3,
     "metadata": {},
     "output_type": "execute_result"
    }
   ],
   "source": [
    "literals = IDPool()\n",
    "S = lambda i, j: literals.id(f'S{i}{j}')\n",
    "\n",
    "S(1, 1)     # create literal 1\n",
    "S(1, 2)     # create literal 2\n",
    "-S(1, 1)    # use literal 1, but negated (-)"
   ]
  },
  {
   "cell_type": "code",
   "execution_count": 20,
   "metadata": {},
   "outputs": [
    {
     "data": {
      "text/plain": [
       "list"
      ]
     },
     "execution_count": 20,
     "metadata": {},
     "output_type": "execute_result"
    }
   ],
   "source": [
    "formula = WCNF()\n",
    "formula.extend([[1], [1]], weights=[0, 0])\n",
    "solver = RC2(formula)\n",
    "solver_solution = solver.compute()\n",
    "solver.oracle_time()\n",
    "type(solver_solution)"
   ]
  },
  {
   "attachments": {},
   "cell_type": "markdown",
   "metadata": {},
   "source": [
    "# Binarize class tests"
   ]
  },
  {
   "cell_type": "code",
   "execution_count": 1,
   "metadata": {},
   "outputs": [],
   "source": [
    "import pandas as pd\n",
    "import numpy as np\n",
    "\n",
    "Xy = pd.read_csv('../databases/monography_example.csv')\n",
    "\n",
    "X = Xy.drop(['Divida'], axis=1)\n",
    "y = Xy['Divida']"
   ]
  },
  {
   "cell_type": "code",
   "execution_count": 2,
   "metadata": {},
   "outputs": [
    {
     "data": {
      "text/html": [
       "<div>\n",
       "<style scoped>\n",
       "    .dataframe tbody tr th:only-of-type {\n",
       "        vertical-align: middle;\n",
       "    }\n",
       "\n",
       "    .dataframe tbody tr th {\n",
       "        vertical-align: top;\n",
       "    }\n",
       "\n",
       "    .dataframe thead th {\n",
       "        text-align: right;\n",
       "    }\n",
       "</style>\n",
       "<table border=\"1\" class=\"dataframe\">\n",
       "  <thead>\n",
       "    <tr style=\"text-align: right;\">\n",
       "      <th></th>\n",
       "      <th>Idade</th>\n",
       "      <th>Sexo</th>\n",
       "      <th>Escolaridade</th>\n",
       "      <th>Salario</th>\n",
       "    </tr>\n",
       "  </thead>\n",
       "  <tbody>\n",
       "    <tr>\n",
       "      <th>0</th>\n",
       "      <td>26</td>\n",
       "      <td>Feminino</td>\n",
       "      <td>Superior</td>\n",
       "      <td>787</td>\n",
       "    </tr>\n",
       "    <tr>\n",
       "      <th>1</th>\n",
       "      <td>26</td>\n",
       "      <td>Masculino</td>\n",
       "      <td>Medio</td>\n",
       "      <td>5415</td>\n",
       "    </tr>\n",
       "    <tr>\n",
       "      <th>2</th>\n",
       "      <td>26</td>\n",
       "      <td>Feminino</td>\n",
       "      <td>Fund</td>\n",
       "      <td>7507</td>\n",
       "    </tr>\n",
       "    <tr>\n",
       "      <th>3</th>\n",
       "      <td>26</td>\n",
       "      <td>Feminino</td>\n",
       "      <td>Superior</td>\n",
       "      <td>7560</td>\n",
       "    </tr>\n",
       "    <tr>\n",
       "      <th>4</th>\n",
       "      <td>26</td>\n",
       "      <td>Masculino</td>\n",
       "      <td>Superior</td>\n",
       "      <td>6344</td>\n",
       "    </tr>\n",
       "    <tr>\n",
       "      <th>5</th>\n",
       "      <td>26</td>\n",
       "      <td>Masculino</td>\n",
       "      <td>Medio</td>\n",
       "      <td>3000</td>\n",
       "    </tr>\n",
       "  </tbody>\n",
       "</table>\n",
       "</div>"
      ],
      "text/plain": [
       "   Idade       Sexo Escolaridade  Salario\n",
       "0     26   Feminino     Superior      787\n",
       "1     26  Masculino        Medio     5415\n",
       "2     26   Feminino         Fund     7507\n",
       "3     26   Feminino     Superior     7560\n",
       "4     26  Masculino     Superior     6344\n",
       "5     26  Masculino        Medio     3000"
      ]
     },
     "execution_count": 2,
     "metadata": {},
     "output_type": "execute_result"
    }
   ],
   "source": [
    "X"
   ]
  },
  {
   "cell_type": "code",
   "execution_count": 16,
   "metadata": {},
   "outputs": [],
   "source": [
    "import sys, os\n",
    "if not sys.path[0] == os.path.abspath('..'):\n",
    "    sys.path.insert(0, os.path.abspath('..'))\n",
    "\n",
    "from utils.binarize import Binarize\n",
    "\n",
    "data = Binarize(\n",
    "    data_frame=X,\n",
    "    series=y,\n",
    "    categorical_columns_index=[2],\n",
    "    number_quantiles_ordinal_columns=5,\n",
    "    number_partitions=2,\n",
    "    balance_instances=True,\n",
    "    balance_instances_seed=21\n",
    ")"
   ]
  },
  {
   "cell_type": "code",
   "execution_count": 17,
   "metadata": {},
   "outputs": [
    {
     "name": "stdout",
     "output_type": "stream",
     "text": [
      "[1 0 0]\n",
      "[1 1 0]\n"
     ]
    }
   ],
   "source": [
    "for partition in data.get_classes():\n",
    "    print(partition)"
   ]
  },
  {
   "cell_type": "code",
   "execution_count": 6,
   "metadata": {},
   "outputs": [
    {
     "data": {
      "text/plain": [
       "<PandasArray>\n",
       "[        'Sexo Feminino',     'Escolaridade Fund',    'Escolaridade Medio',\n",
       " 'Escolaridade Superior',     'Salario <= 3000.0',     'Salario <= 5415.0',\n",
       "     'Salario <= 6344.0',     'Salario <= 7507.0']\n",
       "Length: 8, dtype: object"
      ]
     },
     "execution_count": 6,
     "metadata": {},
     "output_type": "execute_result"
    }
   ],
   "source": [
    "data.get_normal_features_label()"
   ]
  },
  {
   "cell_type": "code",
   "execution_count": 7,
   "metadata": {},
   "outputs": [
    {
     "data": {
      "text/plain": [
       "<PandasArray>\n",
       "[           'Sexo Masculino',     'Not Escolaridade Fund',\n",
       "    'Not Escolaridade Medio', 'Not Escolaridade Superior',\n",
       "          'Salario > 3000.0',          'Salario > 5415.0',\n",
       "          'Salario > 6344.0',          'Salario > 7507.0']\n",
       "Length: 8, dtype: object"
      ]
     },
     "execution_count": 7,
     "metadata": {},
     "output_type": "execute_result"
    }
   ],
   "source": [
    "data.get_opposite_features_label()"
   ]
  },
  {
   "cell_type": "code",
   "execution_count": 17,
   "metadata": {},
   "outputs": [
    {
     "data": {
      "text/plain": [
       "[array([[1, 1, 0, 0, 0, 0, 0, 1],\n",
       "        [0, 0, 0, 1, 0, 0, 1, 1],\n",
       "        [1, 0, 0, 1, 0, 0, 0, 0],\n",
       "        [0, 0, 1, 0, 0, 1, 1, 1],\n",
       "        [0, 0, 1, 0, 1, 1, 1, 1],\n",
       "        [1, 0, 0, 1, 1, 1, 1, 1]], dtype=int64)]"
      ]
     },
     "execution_count": 17,
     "metadata": {},
     "output_type": "execute_result"
    }
   ],
   "source": [
    "X_norm = data.get_normal_instances()\n",
    "X_norm"
   ]
  },
  {
   "cell_type": "code",
   "execution_count": 9,
   "metadata": {},
   "outputs": [
    {
     "data": {
      "text/plain": [
       "[array([[0, 1, 1, 0, 0, 0, 0, 0],\n",
       "        [1, 1, 0, 1, 0, 0, 0, 0]], dtype=int64),\n",
       " array([[0, 0, 1, 1, 1, 1, 1, 0],\n",
       "        [0, 1, 1, 0, 1, 1, 1, 1]], dtype=int64),\n",
       " array([[1, 1, 0, 1, 1, 0, 0, 0],\n",
       "        [1, 1, 1, 0, 1, 1, 0, 0]], dtype=int64)]"
      ]
     },
     "execution_count": 9,
     "metadata": {},
     "output_type": "execute_result"
    }
   ],
   "source": [
    "X_oppo = data.get_opposite_instances()\n",
    "X_oppo"
   ]
  },
  {
   "attachments": {},
   "cell_type": "markdown",
   "metadata": {},
   "source": [
    "# Instances class distribution by class"
   ]
  },
  {
   "cell_type": "code",
   "execution_count": 66,
   "metadata": {},
   "outputs": [
    {
     "name": "stdout",
     "output_type": "stream",
     "text": [
      "Classes Partition 1:\n",
      "0: 5\n",
      "1: 3\n",
      "Classes Partition 2:\n",
      "0: 5\n",
      "1: 3\n",
      "Classes Partition 3:\n",
      "0: 5\n",
      "1: 3\n",
      "Classes Partition 4:\n",
      "0: 5\n",
      "1: 3\n",
      "Classes Partition 5:\n",
      "0: 5\n",
      "1: 3\n",
      "Classes Partition 6:\n",
      "0: 5\n",
      "1: 3\n",
      "Classes Partition 7:\n",
      "0: 5\n",
      "1: 3\n",
      "Classes Partition 8:\n",
      "0: 6\n",
      "1: 2\n",
      "Classes Partition 9:\n",
      "0: 5\n",
      "1: 3\n",
      "Classes Partition 10:\n",
      "0: 6\n",
      "1: 2\n",
      "Classes Partition 11:\n",
      "0: 5\n",
      "1: 2\n",
      "Classes Partition 12:\n",
      "0: 5\n",
      "1: 2\n",
      "Classes Partition 13:\n",
      "0: 5\n",
      "1: 2\n",
      "Classes Partition 14:\n",
      "0: 5\n",
      "1: 2\n",
      "Classes Partition 15:\n",
      "0: 5\n",
      "1: 2\n",
      "Classes Partition 16:\n",
      "0: 5\n",
      "1: 2\n",
      "Classes Partition 17:\n",
      "0: 4\n",
      "1: 3\n",
      "Classes Partition 18:\n",
      "0: 5\n",
      "1: 2\n",
      "Classes Partition 19:\n",
      "0: 4\n",
      "1: 3\n",
      "Classes Partition 20:\n",
      "0: 5\n",
      "1: 2\n"
     ]
    }
   ],
   "source": [
    "classes = data.get_classes()\n",
    "for i, classes_partition in enumerate(classes):\n",
    "    print(f'Classes Partition {i+1}:')\n",
    "    print(f'0: {len(classes_partition[classes_partition == 0])}')\n",
    "    print(f'1: {len(classes_partition[classes_partition == 1])}')"
   ]
  },
  {
   "cell_type": "code",
   "execution_count": 24,
   "metadata": {},
   "outputs": [
    {
     "data": {
      "text/plain": [
       "(array([0], dtype=int64),)"
      ]
     },
     "execution_count": 24,
     "metadata": {},
     "output_type": "execute_result"
    }
   ],
   "source": [
    "np.where(classes[1] == 1)"
   ]
  },
  {
   "cell_type": "code",
   "execution_count": 10,
   "metadata": {},
   "outputs": [
    {
     "data": {
      "text/plain": [
       "<IntegerArray>\n",
       "[0, 1, 3, 4]\n",
       "Length: 4, dtype: Int64"
      ]
     },
     "execution_count": 10,
     "metadata": {},
     "output_type": "execute_result"
    }
   ],
   "source": [
    "data.get_qtt_binarized_feat_per_original_feat()"
   ]
  }
 ],
 "metadata": {
  "kernelspec": {
   "display_name": "venv",
   "language": "python",
   "name": "python3"
  },
  "language_info": {
   "codemirror_mode": {
    "name": "ipython",
    "version": 3
   },
   "file_extension": ".py",
   "mimetype": "text/x-python",
   "name": "python",
   "nbconvert_exporter": "python",
   "pygments_lexer": "ipython3",
   "version": "3.10.4"
  },
  "orig_nbformat": 4,
  "vscode": {
   "interpreter": {
    "hash": "be62e26a93d9e57f1c06a1d5a3a385d57f732f8e49ca7f3e6cc288423a3e8f90"
   }
  }
 },
 "nbformat": 4,
 "nbformat_minor": 2
}
