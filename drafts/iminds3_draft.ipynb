{
 "cells": [
  {
   "attachments": {},
   "cell_type": "markdown",
   "metadata": {},
   "source": [
    "# Draft"
   ]
  },
  {
   "cell_type": "code",
   "execution_count": 3,
   "metadata": {},
   "outputs": [
    {
     "name": "stdout",
     "output_type": "stream",
     "text": [
      "[1, 2]\n"
     ]
    },
    {
     "data": {
      "text/plain": [
       "[3, 4]"
      ]
     },
     "execution_count": 3,
     "metadata": {},
     "output_type": "execute_result"
    }
   ],
   "source": [
    "list = [1, 2, 3, 4]\n",
    "print(list[:len(list)//2])\n",
    "list[len(list)//2:]"
   ]
  },
  {
   "attachments": {},
   "cell_type": "markdown",
   "metadata": {},
   "source": [
    "# Model Tests"
   ]
  },
  {
   "cell_type": "code",
   "execution_count": 16,
   "metadata": {},
   "outputs": [],
   "source": [
    "import sys, os\n",
    "if not sys.path[0] == os.path.abspath('..'):\n",
    "    sys.path.insert(0, os.path.abspath('..'))\n",
    "\n",
    "import pandas as pd\n",
    "import numpy as np\n",
    "from models.ikkrr import IKKRR\n",
    "from models.iminds3 import IMINDS3\n",
    "from sklearn.model_selection import train_test_split\n",
    "\n",
    "\n",
    "Xy = pd.read_csv('../databases/iris.csv')\n",
    "\n",
    "X = Xy.drop(['Class'], axis=1)\n",
    "y = Xy['Class']\n",
    "\n",
    "X_train, X_test, y_train, y_test = train_test_split(X, y, test_size = 0.2)"
   ]
  },
  {
   "cell_type": "code",
   "execution_count": 136,
   "metadata": {},
   "outputs": [
    {
     "name": "stdout",
     "output_type": "stream",
     "text": [
      "s00, s10, s20, s30, s40, s50, s60, s70, s80, s90, s100, s110, s01, s11, s21, s31, s41, s51, s61, s71, s81, s91, s101, s111, \n",
      "[1, 2, 3, 4, 5, 6, 7, -8, -9, 10, 11, -12, 13, 14, 15, 16, -17, 18, -19, 20, 21, -22, -23, 24]\n",
      "l00, l10, l20, l30, l40, l50, l60, l70, l80, l90, l100, l110, l01, l11, l21, l31, l41, l51, l61, l71, l81, l91, l101, l111, \n",
      "[25, -26, -27, -28, -29, 30, 31, -32, 33, 34, -35, 36, -37, 38, -39, 40, 41, -42, -43, 44, 45, -46, 47, 48]\n"
     ]
    }
   ],
   "source": [
    "model1 = IMINDS3(\n",
    "    max_rule_set_size=2,\n",
    "    categorical_columns_index=[],\n",
    "    number_quantiles_ordinal_columns=4,\n",
    "    number_lines_per_partition=8,\n",
    "    rules_accuracy_weight=10,\n",
    "    balance_instances=True\n",
    ")\n",
    "\n",
    "model2 = IKKRR(\n",
    "    max_rule_set_size=2,\n",
    "    categorical_columns_index=[],\n",
    "    number_quantiles_ordinal_columns=4,\n",
    "    number_lines_per_partition=8,\n",
    "    rules_accuracy_weight=10,\n",
    "    balance_instances=True\n",
    ")\n",
    "\n",
    "\n",
    "# model1.fit(X, y)\n",
    "model1.fit(X_train, y_train)\n",
    "\n",
    "# model2.fit(X, y)\n",
    "model2.fit(X_train, y_train)"
   ]
  },
  {
   "cell_type": "code",
   "execution_count": 137,
   "metadata": {},
   "outputs": [
    {
     "name": "stdout",
     "output_type": "stream",
     "text": [
      "0.8666666666666667\n"
     ]
    },
    {
     "data": {
      "text/plain": [
       "'(petal-length <= 5.0 and petal-length > 4.2 and petal-width <= 1.8) or (sepal-width <= 3.0 and petal-length > 1.5750000000000002 and petal-width <= 1.3 and petal-width > 0.3)'"
      ]
     },
     "execution_count": 137,
     "metadata": {},
     "output_type": "execute_result"
    }
   ],
   "source": [
    "print(model1.score(X_test, y_test))\n",
    "model1.get_rules()"
   ]
  },
  {
   "cell_type": "code",
   "execution_count": 138,
   "metadata": {},
   "outputs": [
    {
     "name": "stdout",
     "output_type": "stream",
     "text": [
      "0.9333333333333333\n"
     ]
    },
    {
     "data": {
      "text/plain": [
       "'(sepal-width <= 3.3 and petal-length <= 5.0 and petal-length > 1.5750000000000002) or (sepal-length <= 5.1 and sepal-length > 5.7 and sepal-width > 2.8 and petal-length > 4.2 and petal-width <= 1.8 and petal-width > 0.3)'"
      ]
     },
     "execution_count": 138,
     "metadata": {},
     "output_type": "execute_result"
    }
   ],
   "source": [
    "print(model2.score(X_test, y_test))\n",
    "model2.get_rules()"
   ]
  },
  {
   "cell_type": "code",
   "execution_count": 10,
   "metadata": {},
   "outputs": [
    {
     "name": "stdout",
     "output_type": "stream",
     "text": [
      "<PandasArray>\n",
      "['A 0', 'B 0', 'C 0']\n",
      "Length: 3, dtype: object\n",
      "<PandasArray>\n",
      "['A 1', 'B 1', 'C 1']\n",
      "Length: 3, dtype: object\n",
      "[array([[0, 0, 0],\n",
      "       [1, 1, 0],\n",
      "       [0, 1, 0],\n",
      "       [0, 0, 1],\n",
      "       [1, 0, 0],\n",
      "       [1, 1, 1]], dtype=uint8)]\n"
     ]
    },
    {
     "data": {
      "text/plain": [
       "[array([1, 0, 0, 1, 1, 0], dtype=int64)]"
      ]
     },
     "execution_count": 10,
     "metadata": {},
     "output_type": "execute_result"
    }
   ],
   "source": [
    "print(model1.get_dataset_binarized().get_normal_features_label())\n",
    "print(model1.get_dataset_binarized().get_opposite_features_label())\n",
    "print(model1.get_dataset_binarized().get_normal_instances())\n",
    "model1.get_dataset_binarized().get_classes()"
   ]
  },
  {
   "cell_type": "code",
   "execution_count": 5,
   "metadata": {},
   "outputs": [
    {
     "name": "stdout",
     "output_type": "stream",
     "text": [
      "<PandasArray>\n",
      "['A 0', 'B 0', 'C 0']\n",
      "Length: 3, dtype: object\n",
      "<PandasArray>\n",
      "['A 1', 'B 1', 'C 1']\n",
      "Length: 3, dtype: object\n"
     ]
    },
    {
     "data": {
      "text/plain": [
       "[array([[0, 0, 0],\n",
       "        [1, 1, 0],\n",
       "        [0, 1, 0],\n",
       "        [0, 0, 1],\n",
       "        [1, 0, 0],\n",
       "        [1, 1, 1]], dtype=uint8)]"
      ]
     },
     "execution_count": 5,
     "metadata": {},
     "output_type": "execute_result"
    }
   ],
   "source": [
    "print(model2.get_dataset_binarized().get_normal_features_label())\n",
    "print(model2.get_dataset_binarized().get_opposite_features_label())\n",
    "model2.get_dataset_binarized().get_normal_instances()"
   ]
  }
 ],
 "metadata": {
  "kernelspec": {
   "display_name": "venv",
   "language": "python",
   "name": "python3"
  },
  "language_info": {
   "codemirror_mode": {
    "name": "ipython",
    "version": 3
   },
   "file_extension": ".py",
   "mimetype": "text/x-python",
   "name": "python",
   "nbconvert_exporter": "python",
   "pygments_lexer": "ipython3",
   "version": "3.10.4"
  },
  "orig_nbformat": 4
 },
 "nbformat": 4,
 "nbformat_minor": 2
}
